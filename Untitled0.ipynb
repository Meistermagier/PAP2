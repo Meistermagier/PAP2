{
  "nbformat": 4,
  "nbformat_minor": 0,
  "metadata": {
    "colab": {
      "name": "Untitled0.ipynb",
      "provenance": [],
      "toc_visible": true
    },
    "kernelspec": {
      "name": "python3",
      "display_name": "Python 3"
    }
  },
  "cells": [
    {
      "cell_type": "markdown",
      "metadata": {
        "id": "OoiaDyv180hb",
        "colab_type": "text"
      },
      "source": [
        "# True Anomaly"
      ]
    },
    {
      "cell_type": "markdown",
      "metadata": {
        "id": "gBpqLlnB8YnX",
        "colab_type": "text"
      },
      "source": [
        "This is Math mode. We will now solve Einsteins field equations not, we will insted solve the true Anomaly Numericaly\n",
        "The Mean anomaly is given by: \n",
        "\n",
        "> $M(t) =\\Omega_{k} t $\n",
        "\n",
        "The Mean Anomaly can be connected with the Eccentric Anomaly E by:\n",
        "\n",
        "\n",
        "> $M = E - e\\sin(E)$\n",
        "\n",
        "which gives the true anomaly:\n",
        "\n",
        "> $\\cos(\\nu) = \\frac{cos(E)-e}{1-e\\cos(E)} $\n",
        "\n",
        "which can be solved for the True Anomaly $\\nu$\n",
        "\n",
        "\n",
        "\n",
        "\n",
        "\n",
        "\n",
        "\n"
      ]
    },
    {
      "cell_type": "code",
      "metadata": {
        "id": "TEukU5Ry8Xu_",
        "colab_type": "code",
        "outputId": "302df990-90d2-49da-ed5d-74c998778b19",
        "colab": {
          "base_uri": "https://localhost:8080/",
          "height": 290
        }
      },
      "source": [
        "import sympy \n",
        "from sympy import symbols\n",
        "x = symbols('x')\n",
        "sp.plotting.plot(x**2+3*x+sp.sin(x))"
      ],
      "execution_count": 0,
      "outputs": [
        {
          "output_type": "display_data",
          "data": {
            "image/png": "[encoded data removed]",
            "text/plain": [
              "<Figure size 432x288 with 1 Axes>"
            ]
          },
          "metadata": {
            "tags": []
          }
        },
        {
          "output_type": "execute_result",
          "data": {
            "text/plain": [
              "<sympy.plotting.plot.Plot at 0x7fdae3582908>"
            ]
          },
          "metadata": {
            "tags": []
          },
          "execution_count": 3
        }
      ]
    },
    {
      "cell_type": "markdown",
      "metadata": {
        "id": "0AHHRhwRvNSd",
        "colab_type": "text"
      },
      "source": [
        "THis is an alternate User yay combo breaker\n",
        "\n",
        "> Indenting Block It is easier this way\n",
        "\n",
        "This is change from an alternate user idk how this will work tbh\n",
        "\n",
        "I want to find out sync speed\n",
        "\n",
        "it seems like the sync speed is quite slow this is to try to find if the changes project over to without doing anything\n",
        "\n",
        "Test 790898o898989d8asjhdkjaskdjhaskjhdkjhasmhdkahsdhaskhjdkashdkjhas,d\n"
      ]
    }
  ]
}