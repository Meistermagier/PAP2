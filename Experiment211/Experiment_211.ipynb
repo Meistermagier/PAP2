{
 "cells": [
  {
   "cell_type": "markdown",
   "metadata": {},
   "source": [
    "# Auswertung"
   ]
  },
  {
   "cell_type": "markdown",
   "metadata": {},
   "source": [
    "## 1. Title"
   ]
  },
  {
   "cell_type": "markdown",
   "metadata": {},
   "source": [
    "Die Eigenschwingungsfrequenz der beide Pendel ergibt sich durch:"
   ]
  },
  {
   "cell_type": "markdown",
   "metadata": {},
   "source": [
    "Es sind die Frequenzen $\\omega_1, \\omega_2$ zu berechnen.\n",
    "\n",
    "\\begin{equation}\n",
    "\\omega_1 = \\sqrt{ \\frac{D}{J} } = \\sqrt{ \\frac{g}{L} }\n",
    "\\tag{}\n",
    "\\end{equation}\n",
    "\n",
    "\\begin{equation}\n",
    "\\omega_2 = \\sqrt{ \\frac{D + 2D'}{J} }\n",
    "\\tag{}\n",
    "\\end{equation}\n",
    "\n",
    "$\\omega = 2 \\pi f$<br>\n",
    "$\\Delta \\omega = 2 \\pi (\\Delta f)$<br>\n",
    "$f = \\frac{1}{T}$<br>\n",
    "$\\Delta f = \\frac{\\Delta T}{T^2}$\n",
    "\n",
    "$\\omega_I = \\frac{1}{2}(\\omega_2 + \\omega_1)$<br>\n",
    "$\\Delta \\omega_I = \\frac{1}{2} \\sqrt{(\\Delta \\omega_2)^2 + (\\Delta \\omega_1)^2}$<br>\n",
    "$\\omega_{II} = \\frac{1}{2}(\\omega_2 - \\omega_1)$<br>\n",
    "$\\Delta \\omega_{II} = \\frac{1}{2} \\sqrt{(\\Delta \\omega_2)^2 + (- \\Delta \\omega_1)^2}$"
   ]
  },
  {
   "cell_type": "markdown",
   "metadata": {},
   "source": [
    "Es sind die Kopplungsgrade aus den gemessenen Schwingungsdauern nach\n",
    "\n",
    "\\begin{equation}\n",
    "\\kappa = \\frac{\\omega_2^2 - \\omega_1^2}{\\omega_2^2 + \\omega_1^2} = \\frac{T_1^2 - T_2^2}{T_1^2 + T_2^2}\n",
    "\\tag{}\n",
    "\\end{equation}\n",
    "\n",
    "zu berechnen. Nach den Gaußschen Fehlerfortpflanzung ergibt sich für den Fehler der Kopplungsgrad:\n",
    "\n",
    "\\begin{equation}\n",
    "\\kappa = \\frac{4 \\omega_1 \\omega_2}{\\left(\\omega_1^2 + \\omega_2^2\\right)^2} \\sqrt{ (\\omega_2 \\Delta \\omega_1)^2 + \\omega_1 \\Delta \\omega_2)^2}\n",
    "\\tag{}\n",
    "\\end{equation}\n",
    "\n",
    "Für schwache Kopplungen gilt:\n",
    "\n",
    "\\begin{equation}\n",
    "\\kappa = \\frac{\\omega_2^2 - \\omega_1^2}{2 \\omega_1^2}\n",
    "\\tag{}\n",
    "\\end{equation}\n",
    "\n",
    "\n",
    "Nach den Gaußschen Fehlerfortpflanzung ergibt sich für den Fehler der Kopplungsgrad:\n",
    "\n",
    "\\begin{equation}\n",
    "\\Delta \\kappa = \\sqrt{ \\left(\\frac{\\omega_2}{\\omega_1^2} \\Delta \\omega_2\\right)^2 + \\left(-\\frac{\\omega_2^2}{\\omega_1^3} \\Delta \\omega_1\\right)^2 }\n",
    "\\tag{}\n",
    "\\end{equation}"
   ]
  },
  {
   "cell_type": "markdown",
   "metadata": {},
   "source": [
    "# Misc. stuff"
   ]
  },
  {
   "cell_type": "markdown",
   "metadata": {},
   "source": [
    "<center><u>Tabelle 1: Einstellung</u></center>\n",
    "\n",
    "|Kopplungseinstellung|Abstand zu Kopplungsgrad|Offset Pendel 1|Offset Pendel 2|\n",
    "|--------------------|------------------------|---------------|---------------|\n",
    "|1                   |19.20                   |-1.20          |0.66           |\n",
    "|2                   |29.20                   |-1.40          |0.90           |\n",
    "|3                   |39.20                   |-1.57          |1.05           |\n",
    "\n",
    "<br>\n",
    "<center><u>Tabelle 2: Symmetrische$_{(1)}$ und Asymmetrische$_{(2)}$ Schwingung</u></center>\n",
    "\n",
    "|Kopplungseinstellung|Frequenz$_1$|$\\sigma_1$|Frequenz$_2$|$\\sigma_2$|\n",
    "|--------------------|-------|-----|-------|-----|\n",
    "|1                   |0.620  |0.007|0.648  |0.006|\n",
    "|2                   |0.620  |0.005|0.685  |0.006|\n",
    "|3                   |0.620  |0.004|0.739  |0.011|\n",
    "\n",
    "<br>\n",
    "<center><u>Tabelle 3: Schwebung</u></center>\n",
    "\n",
    "|Kopplungseinstellung|$\\omega_1$|$\\sigma_1$|$\\omega_2$|$\\sigma_2$|\n",
    "|--------------------|-------|-----|-------|-----|\n",
    "|1                   |0.619  |0.003|0.648  |0.003|\n",
    "|2                   |0.618  |0.007|0.685  |0.007|\n",
    "|3                   |0.619  |0.005|0.736  |0.006|"
   ]
  },
  {
   "cell_type": "code",
   "execution_count": null,
   "metadata": {},
   "outputs": [],
   "source": []
  }
 ],
 "metadata": {
  "kernelspec": {
   "display_name": "Python 3",
   "language": "python",
   "name": "python3"
  },
  "language_info": {
   "codemirror_mode": {
    "name": "ipython",
    "version": 3
   },
   "file_extension": ".py",
   "mimetype": "text/x-python",
   "name": "python",
   "nbconvert_exporter": "python",
   "pygments_lexer": "ipython3",
   "version": "3.7.4"
  }
 },
 "nbformat": 4,
 "nbformat_minor": 2
}
