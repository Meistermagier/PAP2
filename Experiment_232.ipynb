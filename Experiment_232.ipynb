{
  "nbformat": 4,
  "nbformat_minor": 0,
  "metadata": {
    "colab": {
      "name": "Experiment 232.ipynb",
      "provenance": [],
      "collapsed_sections": [],
      "toc_visible": true,
      "include_colab_link": true
    },
    "kernelspec": {
      "name": "python3",
      "display_name": "Python 3"
    }
  },
  "cells": [
    {
      "cell_type": "markdown",
      "metadata": {
        "id": "view-in-github",
        "colab_type": "text"
      },
      "source": [
        "<a href=\"https://colab.research.google.com/github/Meistermagier/PAP2/blob/master/Experiment_232.ipynb\" target=\"_parent\"><img src=\"https://colab.research.google.com/assets/colab-badge.svg\" alt=\"Open In Colab\"/></a>"
      ]
    },
    {
      "cell_type": "markdown",
      "metadata": {
        "id": "xiZhwmNvXN1k",
        "colab_type": "text"
      },
      "source": [
        "# 1. Bestimmung der Wellenlänge\n"
      ]
    },
    {
      "cell_type": "markdown",
      "metadata": {
        "id": "Jit6EElZUkJp",
        "colab_type": "text"
      },
      "source": [
        "Wir bestimmen zuerst die Wellenlänge eines Grünen Lasers mithilfe eines Michelson Interferrometer. "
      ]
    },
    {
      "cell_type": "markdown",
      "metadata": {
        "id": "Nbn7NfDWXgyy",
        "colab_type": "text"
      },
      "source": [
        "Tabelle 1:\n",
        "\n",
        "| $s_a$ [mm] | $s_e$ [mm] | $m$ [A.U.] |\n",
        "|------|------|-----|\n",
        "|0.0000|2.9645|11089|\n",
        "|3.2000|0.2400|9538 |\n",
        "|0.5000|3.4590|10452|\n",
        "|3.2000|0.2350|11158|\n",
        "|0.1000|3.0645|11131|"
      ]
    },
    {
      "cell_type": "code",
      "metadata": {
        "id": "Mt62ZoCLW2IZ",
        "colab_type": "code",
        "outputId": "0d345fed-911a-4d47-e1b3-5e9a4f7119f2",
        "colab": {
          "base_uri": "https://localhost:8080/",
          "height": 35
        }
      },
      "source": [
        "import numpy as np\n",
        "import matplotlib.pyplot as plt\n",
        "data_1 = np.genfromtxt('https://raw.githubusercontent.com/Meistermagier/PAP2/master/Experiment232/Aufgabe1.csv',delimiter =\";\")\n",
        "s_e = data_1[:,1]\n",
        "s_a = data_1[:,0]\n",
        "dm = data_1[:,2]\n",
        "wavelength = 2*np.absolute(s_e - s_a)/dm \n",
        "print(wavelength)"
      ],
      "execution_count": 0,
      "outputs": [
        {
          "output_type": "stream",
          "text": [
            "[0.00053467 0.00062068 0.00056621 0.00053146 0.00053266]\n"
          ],
          "name": "stdout"
        }
      ]
    },
    {
      "cell_type": "markdown",
      "metadata": {
        "id": "yFgWTbZESwm8",
        "colab_type": "text"
      },
      "source": [
        ""
      ]
    },
    {
      "cell_type": "code",
      "metadata": {
        "id": "4_OM1vWOXHCS",
        "colab_type": "code",
        "colab": {}
      },
      "source": [
        "std_wave = np.std(wavelength)"
      ],
      "execution_count": 0,
      "outputs": []
    },
    {
      "cell_type": "markdown",
      "metadata": {
        "id": "_pw87uOVTpEc",
        "colab_type": "text"
      },
      "source": [
        "# 2. Bestimmung der Brechungsindex von Luft"
      ]
    },
    {
      "cell_type": "markdown",
      "metadata": {
        "id": "DZsY2vOgUT6g",
        "colab_type": "text"
      },
      "source": [
        "# 3. Bestimmung der Kohärenzlänge einer Leuch"
      ]
    },
    {
      "cell_type": "code",
      "metadata": {
        "id": "SXbDETfpWiXx",
        "colab_type": "code",
        "outputId": "7ae1996a-daa4-406f-b403-c2b7d1e588b1",
        "colab": {
          "base_uri": "https://localhost:8080/",
          "height": 146
        }
      },
      "source": [
        "import numpy as np\n",
        "import matplotlib.pyplot as plt\n",
        "data_3 = np.genfromtxt ('https://raw.githubusercontent.com/Meistermagier/PAP2/master/Experiment232/F0012CH1.CSV', delimiter=\",\", skip_header=18)\n"
      ],
      "execution_count": 0,
      "outputs": [
        {
          "output_type": "stream",
          "text": [
            "[[     nan      nan      nan -0.02888 -0.0008       nan]\n",
            " [     nan      nan      nan -0.02884 -0.0016       nan]\n",
            " [     nan      nan      nan -0.0288  -0.0008       nan]\n",
            " ...\n",
            " [     nan      nan      nan  0.07028  0.           nan]\n",
            " [     nan      nan      nan  0.07032  0.           nan]\n",
            " [     nan      nan      nan  0.07036 -0.0008       nan]]\n"
          ],
          "name": "stdout"
        }
      ]
    }
  ]
}