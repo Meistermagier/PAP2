{
 "cells": [
  {
   "cell_type": "markdown",
   "metadata": {
    "colab_type": "text",
    "id": "xiZhwmNvXN1k"
   },
   "source": [
    "# 1. Bestimmung der Wellenlänge\n"
   ]
  },
  {
   "cell_type": "markdown",
   "metadata": {
    "colab_type": "text",
    "id": "Jit6EElZUkJp"
   },
   "source": [
    "Wir bestimmen zuerst die Wellenlänge eines Grünen Lasers mithilfe eines Michelson Interferrometer. "
   ]
  },
  {
   "cell_type": "markdown",
   "metadata": {
    "colab_type": "text",
    "id": "Nbn7NfDWXgyy"
   },
   "source": [
    "Tabelle 1:\n",
    "\n",
    "| $s_a$ [mm] | $s_e$ [mm] | $m$ [A.U.] |\n",
    "|------|------|-----|\n",
    "|0.0000|2.9645|11089|\n",
    "|3.2000|0.2400|9538 |\n",
    "|0.5000|3.4590|10452|\n",
    "|3.2000|0.2350|11158|\n",
    "|0.1000|3.0645|11131|"
   ]
  },
  {
   "cell_type": "code",
   "execution_count": 0,
   "metadata": {
    "colab": {
     "base_uri": "https://localhost:8080/",
     "height": 35
    },
    "colab_type": "code",
    "id": "Mt62ZoCLW2IZ",
    "outputId": "0d345fed-911a-4d47-e1b3-5e9a4f7119f2"
   },
   "outputs": [
    {
     "name": "stdout",
     "output_type": "stream",
     "text": [
      "[0.00053467 0.00062068 0.00056621 0.00053146 0.00053266]\n"
     ]
    }
   ],
   "source": [
    "import numpy as np\n",
    "import matplotlib.pyplot as plt\n",
    "data_1 = np.genfromtxt('https://raw.githubusercontent.com/Meistermagier/PAP2/master/Experiment232/Aufgabe1.csv',delimiter =\";\")\n",
    "s_e = data_1[:,1]\n",
    "s_a = data_1[:,0]\n",
    "dm = data_1[:,2]\n",
    "wavelength = 2*np.absolute(s_e - s_a)/dm \n",
    "print(wavelength)"
   ]
  },
  {
   "cell_type": "markdown",
   "metadata": {
    "colab_type": "text",
    "id": "yFgWTbZESwm8"
   },
   "source": []
  },
  {
   "cell_type": "code",
   "execution_count": 0,
   "metadata": {
    "colab": {},
    "colab_type": "code",
    "id": "4_OM1vWOXHCS"
   },
   "outputs": [],
   "source": [
    "std_wave = np.std(wavelength)"
   ]
  },
  {
   "cell_type": "markdown",
   "metadata": {
    "colab_type": "text",
    "id": "_pw87uOVTpEc"
   },
   "source": [
    "# 2. Bestimmung der Brechungsindex von Luft"
   ]
  },
  {
   "cell_type": "markdown",
   "metadata": {
    "colab_type": "text",
    "id": "jpMlhFDcvn5H"
   },
   "source": [
    "[AUSWERTUNG INTRO]"
   ]
  },
  {
   "cell_type": "code",
   "execution_count": 13,
   "metadata": {
    "colab": {
     "base_uri": "https://localhost:8080/",
     "height": 55
    },
    "colab_type": "code",
    "id": "utgi697VwCq0",
    "outputId": "68af8ce7-a03b-4534-a167-5313e5637ef0"
   },
   "outputs": [
    {
     "name": "stdout",
     "output_type": "stream",
     "text": [
      "[3708.33333333 3350.         2966.66666667 2600.         2216.66666667\n",
      " 1833.33333333 1450.         1083.33333333  700.          325.\n",
      "    0.        ]\n"
     ]
    }
   ],
   "source": [
    "import numpy as np\n",
    "import matplotlib.pyplot as plt\n",
    "data_2 = np.genfromtxt ('https://raw.githubusercontent.com/Meistermagier/PAP2/master/Experiment232/Tabelle%202%20(Torr).csv', delimiter=',')\n",
    "\n",
    "p0 = data_2[:3,0:1]\n",
    "p5 = data_2[:3,1:2]\n",
    "p10 = data_2[:3,2:3]\n",
    "p15 = data_2[:3,3:4]\n",
    "p20 = data_2[:3,4:5]\n",
    "p25 = data_2[:3,5:6]\n",
    "p30 = data_2[:3,6:7]\n",
    "p35 = data_2[:3,7:8]\n",
    "p40 = data_2[:3,8:9]\n",
    "p45 = data_2[:3,9:10]\n",
    "p49 = data_2[:3,10:11]\n",
    "m = 5\n",
    "m_mean = np.mean(data_2[3:,:])\n",
    "\n",
    "means_5 = np.array([np.mean(p0),np.mean(p5),np.mean(p10),np.mean(p15),np.mean(p20),np.mean(p25),np.mean(p30),np.mean(p35),np.mean(p40),np.mean(p45)])\n",
    "means_4 = np.array([np.mean(p0),np.mean(p5),np.mean(p10),np.mean(p15),np.mean(p20),np.mean(p25),np.mean(p30),np.mean(p35),np.mean(p40),np.mean(p45),np.mean(p49)])\n",
    "\n",
    "print(means_4)"
   ]
  },
  {
   "cell_type": "markdown",
   "metadata": {
    "colab_type": "text",
    "id": "jS5QuQXE-xIx"
   },
   "source": [
    "<center>Tabelle 2: Gemessene Druck und Mittelwerte</center>\n",
    "\n",
    "|  $p_0$ [Torr] |  $p_5$ [Torr] |  $p_{10}$ [Torr] |  $p_{15}$ [Torr] |  $p_{20}$ [Torr] |  $p_{25}$ [Torr] |  $p_{30}$ [Torr] |  $p_{35}$ [Torr] |  $p_{40}$ [Torr] |  $p_{45}$ [Torr] |  $p_{49}$ [Torr] |\n",
    "|----|----|----|----|----|----|----|----|---|---|---|\n",
    "|3700|3350|2975|2600|2225|1825|1450|1100|700|325|0  |\n",
    "|3700|3350|2950|2600|2225|1850|1450|1075|700|325|0  |\n",
    "|3725|3350|2975|2600|2200|1825|1450|1075|700|325|0  |\n",
    "\n",
    "|  $\\bar{p}_0$ [Torr] |  $\\bar{p}_5$ [Torr] |  $\\bar{p}_{10}$ [Torr] |  $\\bar{p}_{15}$ [Torr] |  $\\bar{p}_{20}$ [Torr] |  $\\bar{p}_{25}$ [Torr] |  $\\bar{p}_{30}$ [Torr] |  $\\bar{p}_{35}$ [Torr] |  $\\bar{p}_{40}$ [Torr] |  $\\bar{p}_{45}$ [Torr] |  $\\bar{p}_{49}$ [Torr] |\n",
    "|----|----|----|----|----|----|----|----|---|---|---|\n",
    "|3708.33|3350.00|2966.67|2600.00|2216.67|1833.33|1450.00|1083.33|700.00|325.00|0  |"
   ]
  },
  {
   "cell_type": "code",
   "execution_count": 16,
   "metadata": {},
   "outputs": [
    {
     "name": "stdout",
     "output_type": "stream",
     "text": [
      "2.225 2.01 1.7799999999999998 1.5599999999999998 1.3299999999999998 1.0999999999999999 0.8699999999999999 0.6499999999999999 0.42 0.19499999999999998\n",
      "[2.225 2.01  1.78  1.56  1.33  1.1   0.87  0.65  0.42  0.195 0.   ]\n"
     ]
    }
   ],
   "source": [
    "import numpy as np\n",
    "import matplotlib.pyplot as plt\n",
    "\n",
    "print(np.mean(p0)*0.0006,np.mean(p5)*0.0006,np.mean(p10)*0.0006,np.mean(p15)*0.0006,np.mean(p20)*0.0006,np.mean(p25)*0.0006,np.mean(p30)*0.0006,np.mean(p35)*0.0006,np.mean(p40)*0.0006,np.mean(p45)*0.0006)\n",
    "print(means_4*0.0006)"
   ]
  },
  {
   "cell_type": "markdown",
   "metadata": {},
   "source": [
    "<center>Tabelle 3: Statistische und systematische Fehlern von Druck in Torr</center>\n",
    "\n",
    "|  ${(\\Delta \\bar{p}_0)_{stat}}$ |  ${(\\Delta \\bar{p}_5)_{stat}}$ |  ${(\\Delta \\bar{p}_{10})_{stat}}$ |  ${(\\Delta \\bar{p}_{15})_{stat}}$ |  ${(\\Delta \\bar{p}_{20})_{stat}}$ |  ${(\\Delta \\bar{p}_{25})_{stat}}$ |  ${(\\Delta \\bar{p}_{30})_{stat}}$ |  ${(\\Delta \\bar{p}_{35})_{stat}}$ |  ${(\\Delta \\bar{p}_{40})_{stat}}$ |  ${(\\Delta \\bar{p}_{45})_{stat}}$ |  ${(\\Delta \\bar{p}_{49})_{stat}}$ |\n",
    "|----|----|----|----|----|----|----|----|---|---|---|\n",
    "|3708.33|0|2966.67|0|2216.67|1833.33|0|1083.33|0|0|0  |\n",
    "\n",
    "|  ${(\\Delta \\bar{p}_0)_{sys}}$ |  ${(\\Delta \\bar{p}_5)_{sys}}$ |  ${(\\Delta \\bar{p}_{10})_{sys}}$ |  ${(\\Delta \\bar{p}_{15})_{sys}}$ |  ${(\\Delta \\bar{p}_{20})_{sys}}$ |  ${(\\Delta \\bar{p}_{25})_{sys}}$ |  ${(\\Delta \\bar{p}_{30})_{sys}}$ |  ${(\\Delta \\bar{p}_{35})_{sys}}$ |  ${(\\Delta \\bar{p}_{40})_{sys}}$ |  ${(\\Delta \\bar{p}_{45})_{sys}}$ |  ${(\\Delta \\bar{p}_{49})_{sys}}$ |\n",
    "|------|------|------|------|------|------|------|------|------|------|------|\n",
    "|2.23|2.01|1.78|1.56|1.33|1.10|0.87|0.65|0.42|0.19|0  |"
   ]
  },
  {
   "cell_type": "markdown",
   "metadata": {},
   "source": [
    "Die gesamtfehlern des Drucks ergeben sich durch ${\\Delta p}=\\sqrt{{(\\Delta \\bar{p})_{stat}}^2+{(\\Delta \\bar{p})_{sys}}^2}$ und sind in der folgende Tabelle dargestellt."
   ]
  },
  {
   "cell_type": "markdown",
   "metadata": {},
   "source": [
    "<center>Tabelle 4: Gesamtfehlern von Druck in Torr</center>\n",
    "\n",
    "|  ${\\Delta \\bar{p}_0}$ |  ${\\Delta \\bar{p}_5}$ |  ${\\Delta \\bar{p}_{10}}$ |  ${\\Delta \\bar{p}_{15}}$ |  ${\\Delta \\bar{p}_{20}}$ |  ${\\Delta \\bar{p}_{25}}$ |  ${\\Delta \\bar{p}_{30}}$ |  ${\\Delta \\bar{p}_{35}}$ |  ${\\Delta \\bar{p}_{40}}$ |  ${\\Delta \\bar{p}_{45}}$ |  ${\\Delta \\bar{p}_{49}}$ |\n",
    "|------|------|------|------|------|------|------|------|------|------|------|\n",
    "|2.23|2.01|1.78|1.56|1.33|1.10|0.87|0.65|0.42|0.19|0  |"
   ]
  },
  {
   "cell_type": "markdown",
   "metadata": {
    "colab_type": "text",
    "id": "c10C5qQGLw5d"
   },
   "source": [
    "Es gilt:\n",
    "\\begin{equation} \\frac{n_0-1}{n(p)-1}=\\frac{p_0T}{pT_0} \\tag{40} \\end{equation}\n",
    "wobei ${n_0}$ der Brechngsindex von Luft auf Normalbedingungen ist.<br>\n",
    "\n",
    "Mit Hilfe von Gleichung (38) folgt:\n",
    "\\begin{equation} (n_0-1)=(n-1)\\frac{p_0}{p}\\frac{T}{T_0}=\\frac{\\lambda}{2a}\\frac{\\Delta m}{p}\\frac{p_0T}{T_0} \\tag{41} \\end{equation}"
   ]
  },
  {
   "cell_type": "markdown",
   "metadata": {},
   "source": [
    "Somit ergibt sich für den Brechngsindex von Luft auf Normalbedingungen:\n",
    "\\begin{equation} n_0=\\frac{\\lambda}{2a}\\frac{\\Delta m}{p}\\frac{p_0T}{T_0}+1 \\tag{42} \\end{equation}\n",
    "wobei T die Temperatur während der Messung, ${T_0}$ die Temperatur auf Normalbedingungen, ${p_0}$ der Druck auf Normalbedingungen, ${\\lambda}$ die Wellenlänge des Lasers und a das Innenmaß der Küvette darstellen. Die gennante Werte betragen:<br>\n",
    ">${T_0}=273.15 K$<br>\n",
    ">${p_0}=101325 Pa$<br>\n",
    ">${\\lambda}=(532\\pm1) nm =(532\\pm1)\\cdot10^9 m$<br>\n",
    ">${a}=(50\\pm0.05) mm = (50\\pm0.05)\\cdot10^{-3} m$<br>\n",
    "(Quelle: Praktikumsanleitung Versuch 232)"
   ]
  },
  {
   "cell_type": "markdown",
   "metadata": {},
   "source": [
    "Um die Steigung $\\left(\\frac{\\Delta m}{p}\\right)$ zu berechnen werden die Werte von ${\\Delta m}$ über den Druck $p$ in einem Diagramm eingetragen. Die Werte befinden sich in der Tabelle 3 der Auswertung und sind in der folgender Diagramm dargestellt:"
   ]
  },
  {
   "cell_type": "code",
   "execution_count": 19,
   "metadata": {},
   "outputs": [
    {
     "data": {
      "text/plain": [
       "Text(0, 0.5, '${\\\\Delta m}$ [b.E.]')"
      ]
     },
     "execution_count": 19,
     "metadata": {},
     "output_type": "execute_result"
    },
    {
     "data": {
      "image/png": "[encoded data removed]",
      "text/plain": [
       "<Figure size 432x288 with 1 Axes>"
      ]
     },
     "metadata": {
      "needs_background": "light"
     },
     "output_type": "display_data"
    }
   ],
   "source": [
    "import numpy as np\n",
    "import matplotlib.pyplot as plt\n",
    "\n",
    "plt.plot(means_5,[0,5,10,15,20,25,30,35,40,45])\n",
    "plt.xlabel('Druck $p$ [Torr]')\n",
    "plt.ylabel('${\\Delta m}$ [b.E.]')"
   ]
  },
  {
   "cell_type": "markdown",
   "metadata": {},
   "source": [
    "Aus der Diagramm 1 ergibt sich somit für die Steigungen $\\left(\\frac{\\Delta m}{p}\\right)$ der Ausgleich- und Fehlergeraden:<br>\n",
    ">$\\left(\\frac{\\Delta m}{p}\\right)$=<br>\n",
    ">${\\Delta \\left(\\frac{\\Delta m}{p}\\right)}$="
   ]
  },
  {
   "cell_type": "markdown",
   "metadata": {},
   "source": [
    "Nach dem Gaußschen Fehlerfortpflanzung ist der Fehler des Brechungsindex von Luft auf Normalbedingungen:\n",
    "\n",
    "\\begin{equation} {\\Delta n_0}=\\sqrt{{\\left(\\frac{\\Delta \\lambda}{2a}\\frac{\\Delta m}{p}\\frac{p_0T}{T_0}\\right)}^2+{\\left(\\frac{\\lambda}{2a}{\\Delta \\left(\\frac{\\Delta m}{p}\\right)}\\frac{p_0T}{T_0}\\right)}^2+{\\left(\\frac{\\lambda}{2a}\\frac{\\Delta m}{p}\\frac{p_0\\Delta T}{T_0}\\right)}^2+{\\left(\\frac{\\lambda+\\Delta a}{2a^{-2}}\\frac{\\Delta m}{p}\\frac{p_0T}{T_0}\\right)}^2} \\tag{43} \\end{equation}\n",
    "\n",
    "$${n_0}=1.00028$$"
   ]
  },
  {
   "cell_type": "markdown",
   "metadata": {
    "colab_type": "text",
    "id": "DZsY2vOgUT6g"
   },
   "source": [
    "# 3. Bestimmung der Kohärenzlänge einer Leuchtdiode"
   ]
  },
  {
   "cell_type": "markdown",
   "metadata": {
    "colab_type": "text",
    "id": "OjcISibOvjw8"
   },
   "source": [
    "[AUSWERTUNG INTRO]"
   ]
  },
  {
   "cell_type": "code",
   "execution_count": 1,
   "metadata": {
    "colab": {
     "base_uri": "https://localhost:8080/",
     "height": 422
    },
    "colab_type": "code",
    "id": "SXbDETfpWiXx",
    "outputId": "6084f6b3-dc36-479c-8fa1-346a3e58f16a"
   },
   "outputs": [
    {
     "data": {
      "text/plain": [
       "[-0.028, 0.07, -0.077, 0.077]"
      ]
     },
     "execution_count": 1,
     "metadata": {},
     "output_type": "execute_result"
    }
   ],
   "source": [
    "import numpy as np\n",
    "import matplotlib.pyplot as plt\n",
    "data_3 = np.genfromtxt ('https://raw.githubusercontent.com/Meistermagier/PAP2/master/Experiment232/F0013CH1.CSV', delimiter=\",\", skip_header=18)\n",
    "t = data_3[:,3:4]\n",
    "t = t[:, 0]\n",
    "U = data_3[:,4:5]\n",
    "U = U[:, 0]\n",
    "\n",
    "plt.figure(figsize=(8,6))\n",
    "plt.plot(t, U, color = 'red', linewidth = 1)\n",
    "plt.xlabel('Zeit / s')\n",
    "plt.ylabel('Intensitaet / b.E.')\n",
    "plt.title('Interferogramm einer LED')\n",
    "plt.axis([-0.028, 0.07, -0.077, 0.077])"
   ]
  },
  {
   "cell_type": "code",
   "execution_count": 0,
   "metadata": {
    "colab": {
     "base_uri": "https://localhost:8080/",
     "height": 477
    },
    "colab_type": "code",
    "id": "9wnB5zsPj3X5",
    "outputId": "148a25b7-bc4e-4e3d-ac32-244cfe59afc5"
   },
   "outputs": [
    {
     "name": "stdout",
     "output_type": "stream",
     "text": [
      "[  51  116  181  249  331  429  510  578  657  726  809  896  975 1048\n",
      " 1128 1214 1311 1407 1482 1553 1624 1693 1767 1850 1917 2003 2074 2141\n",
      " 2220 2293 2369 2448]\n"
     ]
    },
    {
     "data": {
      "text/plain": [
       "[-0.028, 0.07, -0.077, 0.077]"
      ]
     },
     "execution_count": 51,
     "metadata": {
      "tags": []
     },
     "output_type": "execute_result"
    },
    {
     "data": {
      "image/png": "[encoded data removed]",
      "text/plain": [
       "<Figure size 576x432 with 1 Axes>"
      ]
     },
     "metadata": {
      "tags": []
     },
     "output_type": "display_data"
    }
   ],
   "source": [
    "from scipy import signal\n",
    "peakind = signal.find_peaks_cwt(U, np.arange(1,40), noise_perc=20)\n",
    "print(peakind)\n",
    "\n",
    "plt.figure(figsize=(8,6))\n",
    "plt.plot(t[peakind], U[peakind], marker = 'o', linewidth = 0)\n",
    "plt.plot(t, U, color = 'red', linewidth = 1)\n",
    "plt.xlabel('Zeit / s')\n",
    "plt.ylabel('Intensitaet / b.E.')\n",
    "plt.title('Interferogramm einer LED')\n",
    "plt.axis([-0.028, 0.07, -0.077, 0.077])"
   ]
  },
  {
   "cell_type": "code",
   "execution_count": 0,
   "metadata": {
    "colab": {
     "base_uri": "https://localhost:8080/",
     "height": 422
    },
    "colab_type": "code",
    "id": "HVJJOrDfohsK",
    "outputId": "35250c5a-6d1d-4ef2-bdd7-e4baf46d95bf"
   },
   "outputs": [
    {
     "name": "stdout",
     "output_type": "stream",
     "text": [
      "-0.0027680370968332273 0.020289680070940754 -0.015280214165665499\n"
     ]
    },
    {
     "data": {
      "image/png": "[encoded data removed]",
      "text/plain": [
       "<Figure size 576x432 with 1 Axes>"
      ]
     },
     "metadata": {
      "tags": []
     },
     "output_type": "display_data"
    }
   ],
   "source": [
    "#Fitfunktion Gauss\n",
    "def fitFunc(t, a, mu, sig):\n",
    "  return a/np.sqrt(2*np.pi)/sig*np.exp(-(t-mu)**2/(2*sig**2))\n",
    "\n",
    "from scipy.optimize import curve_fit\n",
    "popt, pcov = curve_fit(fitFunc, t[peakind], U[peakind], maxfev = 850)\n",
    "\n",
    "x = np.linspace(-0.028,0.07,100)\n",
    "plt.figure(figsize=(8,6))\n",
    "plt.plot(x, fitFunc(x, *popt))\n",
    "plt.plot(t[peakind], U[peakind], marker = '*', linewidth = 0)\n",
    "plt.xlabel('Zeit / s')\n",
    "plt.ylabel('Intensitaet / b.E.')\n",
    "plt.title('Interferogramm einer LED (Gaussfit)')\n",
    "plt.axis([-0.028, 0.07, -0.077, 0.077])\n",
    "print(*popt)"
   ]
  },
  {
   "cell_type": "markdown",
   "metadata": {
    "colab_type": "text",
    "id": "bPI-HunD8RL7"
   },
   "source": [
    "[CALC SHIT]"
   ]
  }
 ],
 "metadata": {
  "colab": {
   "collapsed_sections": [],
   "name": "Experiment 232.ipynb",
   "provenance": [],
   "toc_visible": true
  },
  "kernelspec": {
   "display_name": "Python 3",
   "language": "python",
   "name": "python3"
  },
  "language_info": {
   "codemirror_mode": {
    "name": "ipython",
    "version": 3
   },
   "file_extension": ".py",
   "mimetype": "text/x-python",
   "name": "python",
   "nbconvert_exporter": "python",
   "pygments_lexer": "ipython3",
   "version": "3.7.4"
  }
 },
 "nbformat": 4,
 "nbformat_minor": 1
}
